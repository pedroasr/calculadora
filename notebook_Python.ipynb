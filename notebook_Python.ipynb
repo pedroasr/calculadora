{
 "cells": [
  {
   "cell_type": "markdown",
   "id": "cf74dad9",
   "metadata": {},
   "source": [
    "# Introducción a Python\n",
    "\n",
    "\n",
    "En este notebook vamos a ver cómo empezar en Python, su sintaxis, tipos de datos, métodos, etc. La idea es que cualquier persona que no tenga experiencia en programación o en Python sea capaz de conocer sus principios básicos, dar una base de la que seguir aprendiendo sin que resulte demasiado difícil.\n",
    "\n",
    "## Tipos de datos\n",
    "\n",
    "En Python (y en prácticamente todos los lenguajes de programación) existen tres tipos de datos básicos:\n",
    "\n",
    "- **String**: cadena de caracteres.\n",
    "- **Numbers**: valores numéricos.\n",
    "    * *int*: valores enteros\n",
    "    * *float*: valores en coma flotante\n",
    "- **Boolean**: valores lógicos."
   ]
  },
  {
   "cell_type": "code",
   "execution_count": 1,
   "id": "75ca5d89",
   "metadata": {},
   "outputs": [
    {
     "name": "stdout",
     "output_type": "stream",
     "text": [
      "Hola\n",
      "288\n",
      "True\n"
     ]
    }
   ],
   "source": [
    "stringVar = \"Hola\"\n",
    "print(stringVar)\n",
    "\n",
    "numberVar = 288\n",
    "print(numberVar)\n",
    "\n",
    "booleanVar = True\n",
    "print(booleanVar)"
   ]
  },
  {
   "cell_type": "markdown",
   "id": "39b97703",
   "metadata": {},
   "source": [
    "Normalmente los string y number se usan en operaciones comunes mientras que los boolean son usados para condiciones o bucles.\n",
    "Un ejemplo de ello sería combinar dos string o sumar dos number:"
   ]
  },
  {
   "cell_type": "code",
   "execution_count": 2,
   "id": "feb90e26",
   "metadata": {},
   "outputs": [
    {
     "name": "stdout",
     "output_type": "stream",
     "text": [
      "Hola Adiós\n",
      "288\n"
     ]
    }
   ],
   "source": [
    "chain = \"Hola\" + \" \" + \"Adiós\"\n",
    "print(chain)\n",
    "\n",
    "sum  = 144 + 144\n",
    "print(sum)"
   ]
  },
  {
   "cell_type": "markdown",
   "id": "dd24c4e0",
   "metadata": {},
   "source": [
    "¿Qué pasaría si en vez de sumar dos valores del mismo tipo intentamos sumar dos valores de distinto tipo?"
   ]
  },
  {
   "cell_type": "code",
   "execution_count": 3,
   "id": "8c0385de",
   "metadata": {},
   "outputs": [
    {
     "ename": "TypeError",
     "evalue": "can only concatenate str (not \"int\") to str",
     "output_type": "error",
     "traceback": [
      "\u001b[1;31m---------------------------------------------------------------------------\u001b[0m",
      "\u001b[1;31mTypeError\u001b[0m                                 Traceback (most recent call last)",
      "\u001b[1;32m~\\AppData\\Local\\Temp/ipykernel_820/962585620.py\u001b[0m in \u001b[0;36m<module>\u001b[1;34m\u001b[0m\n\u001b[1;32m----> 1\u001b[1;33m \u001b[0mchain\u001b[0m \u001b[1;33m=\u001b[0m \u001b[1;34m\"Número de palabras: \"\u001b[0m \u001b[1;33m+\u001b[0m \u001b[1;36m288\u001b[0m\u001b[1;33m\u001b[0m\u001b[1;33m\u001b[0m\u001b[0m\n\u001b[0m\u001b[0;32m      2\u001b[0m \u001b[0mprint\u001b[0m\u001b[1;33m(\u001b[0m\u001b[0mchain\u001b[0m\u001b[1;33m)\u001b[0m\u001b[1;33m\u001b[0m\u001b[1;33m\u001b[0m\u001b[0m\n",
      "\u001b[1;31mTypeError\u001b[0m: can only concatenate str (not \"int\") to str"
     ]
    }
   ],
   "source": [
    "chain = \"Número de palabras: \" + 288\n",
    "print(chain)"
   ]
  },
  {
   "cell_type": "markdown",
   "id": "946054b8",
   "metadata": {},
   "source": [
    "Nos da un error del tipo TypeError (se puede ver en a parte final del reporte), lo que quiere decir que hay un problema con los tipos, **no podemos sumar un valor de tipo string a un valor de tipo number**. \n",
    "Para solucionar esto, existe la transformación de tipos o *cast*. Por ejemplo, vamos a transformar el tipo number a tipo string para poder sumarlos:"
   ]
  },
  {
   "cell_type": "code",
   "execution_count": null,
   "id": "7fd21a60",
   "metadata": {},
   "outputs": [],
   "source": [
    "chain = \"Número de palabras: \" + str(288)\n",
    "print(chain)"
   ]
  },
  {
   "cell_type": "markdown",
   "id": "7ba05894",
   "metadata": {},
   "source": [
    "## Agrupación de valores\n",
    "\n",
    "Un claro caso de uso es el de tener más de un valor asignado a una variable, como por ejemlo una matriz de valores o una lista de nombres, ¿pero cómo es esto posible? Existen tres agrupaciones en Python, cada una con sus peculiaridades:\n",
    "\n",
    "Con ello introducimos las *listas*, las *tuplas* y los *diccionarios*.\n",
    "\n",
    "### Listas\n",
    "\n",
    "Podemos pensar en una lista como un cajon dividido en compartimentos, donde en cada compartimento puede guardarse un valor distinto. Una lista se inicializa con **[ ]** y puede contener valores de diferentes tipos. Se trata de un objeto mutable, por lo que sus valores, posiciones y longitud pueden variar.\n",
    "\n",
    "En este punto es interesante hablar sobre la indexación en Python. Cada elemento de una lista tiene una posición dentro de ella, a la que tendremos que llamar si queremos obtener un valor en concreto, a esto lo llamamos indexación. Un detalle importante es que el primer elemento en Python **ocupa la posición 0**, por ejemplo si una lista tiene cuatro elementos, sus índices serán 0, 1, 2 y 3.\n",
    "\n",
    "A continuación veremos algunas de las operaciones que podemos hacer:"
   ]
  },
  {
   "cell_type": "code",
   "execution_count": null,
   "id": "31e8419d",
   "metadata": {},
   "outputs": [],
   "source": [
    "# Creamos una lista con cuatro elementos\n",
    "myFirstList = [\"Hola\", \"Pedro\", 288, True]\n",
    "print(\"Lista completa: \", myFirstList)\n",
    "print(\"\")\n",
    "\n",
    "# La indexación comienza por 0, por lo que si queremos obtener el primer valor\n",
    "print(\"Primer elemento: \", myFirstList[0])\n",
    "print(\"Tercer elemento: \", myFirstList[2])\n",
    "print(\"\")\n",
    "\n",
    "#También podemos seleccionar elementos dentro de unos límites\n",
    "print(\"Del elemento 0 al 2: \", myFirstList[0:3])\n",
    "print(\"\")\n",
    "\n",
    "# A veces es útil seleccionar x elementos desde el inicio o desde el final\n",
    "print(\"Dos primeros elementos: \", myFirstList[:2])\n",
    "print(\"Dos últimos elementos: \", myFirstList[2:])\n",
    "print(\"\")\n",
    "\n",
    "# Para seleccionar el último elemento se usa -1, -2 el penúltimo, -3 antepenúltimo, etc.\n",
    "print(\"Último elemento: \", myFirstList[-1])\n",
    "print(\"Penúltimo elemento: \", myFirstList[-2])\n",
    "print(\"\")\n",
    "\n",
    "# Podemos añadir elementos a una lista\n",
    "myFirstList.append(\"Añadido\")\n",
    "print(\"Elemento añadido: \", myFirstList)\n",
    "print(\"\")\n",
    "\n",
    "# Y eliminar un elemento por su valor\n",
    "myFirstList.remove(\"Añadido\")\n",
    "print(\"Elemento eliminado por valor: \", myFirstList)\n",
    "print(\"\")\n",
    "\n",
    "# Podemos añadir un elemento en una posición en concreto\n",
    "myFirstList.insert(2, \"Añadido\")\n",
    "print(\"Elemento añadido en posición 2: \", myFirstList)\n",
    "print(\"\")\n",
    "\n",
    "# Y eliminar un elemento por su índice\n",
    "myFirstList.pop(2)\n",
    "print(\"Elemento eliminado en posición 2: \", myFirstList)\n",
    "print(\"\")\n",
    "\n",
    "# Por último, podemos modificar el valor de un elemento\n",
    "myFirstList[0] = \"Adiós\"\n",
    "print(\"Elemento modificado en posición 0: \", myFirstList)\n",
    "print(\"\")"
   ]
  },
  {
   "cell_type": "markdown",
   "id": "2d28dc47",
   "metadata": {},
   "source": [
    "### Tuplas\n",
    "\n",
    "Las tuplas son prácticamente lo mismo que las listas, pero son inmutables, no pueden ser modificadas ni sus valores ni posiciones ni longitud. Son útiles cuando queremos asegurar que un conjunto de constantes no son modificadas. Se inicializan con **( )** y se puede acceder de la misma manera que las listas.\n",
    "\n",
    "\n",
    "### Diccionarios\n",
    "\n",
    "Los diccionarios son una estructura de datos de Python que corresponden al tipo *clave*:*valor*. Las claves dentro de un diccionario son únicas e irrepetibles. Se inicializan con **{ }** y su valor puede ser modificado de la misma manera que las listas pero por clave.\n",
    "\n",
    "Vamos a trabajar un poco con ellos:"
   ]
  },
  {
   "cell_type": "code",
   "execution_count": null,
   "id": "5c3b0c1c",
   "metadata": {},
   "outputs": [],
   "source": [
    "# Creamos nuestro diccionario de animales\n",
    "animalsDict = {\"perros\":2, \"gatos\":3}\n",
    "print(\"Diccionario completo: \", animalsDict)\n",
    "print(\"\")\n",
    "\n",
    "# Podemos añadir una nueva clave\n",
    "animalsDict[\"pajaro\"] = 1\n",
    "print(\"Diccionario con clave 'pajaro': \", animalsDict)\n",
    "print(\"\")\n",
    "\n",
    "# Podemos modificar el valor de una clave igual que con una lista\n",
    "animalsDict[\"pajaro\"] = 5\n",
    "print(\"Diccionario con valor 'pajaro' cambiado\", animalsDict)\n",
    "print(\"\")\n",
    "\n",
    "# Podemos eliminar una clave con la palabra reservada del\n",
    "del animalsDict[\"pajaro\"]\n",
    "print(\"Diccionario con clave 'pajaro' eliminado: \", animalsDict)\n",
    "print(\"\")\n",
    "\n",
    "# Si queremos solamente las claves usamos .keys() y si queremos los valores .values()\n",
    "print(\"Claves del diccionario: \", animalsDict.keys())\n",
    "print(\"Valores del diccionario: \", animalsDict.values())\n",
    "print(\"\")"
   ]
  },
  {
   "cell_type": "markdown",
   "id": "376cf234",
   "metadata": {},
   "source": [
    "## Operadores\n",
    "\n",
    "Los operadores son símbolos que le indican al intérprete que realice una operación específica, como aritmética, comparación, lógica, etc.\n",
    "\n",
    "Estos son los diferentes tipos de operadores en Python:\n",
    "\n",
    "#### Operadores Aritméticos\n",
    "\n",
    "Un operador aritmético toma dos operandos como entrada, realiza un cálculo y devuelve el resultado.\n",
    "\n",
    "|OPERADOR|DESCRIPCIÓN|EJEMPLO|\n",
    "|:---:|:---:|:---:|\n",
    "|+|Realiza suma entre los operandos|12 + 3 = 15|\n",
    "|-|Realiza resta entre los operandos|12 - 3 = 9|\n",
    "|*|Realiza multiplicación entre los operandos|12 * 3 = 36|\n",
    "|/|Realiza división entre los operandos|12 / 3 = 4|\n",
    "|%|Realiza un módulo entre los operandos|16 % 3 = 1|\n",
    "|**|Realiza la potencia de los operandos|2 ** 3 = 8|\n",
    "|//|Realiza la división con resultado de número entero|18 // 5 = 3|\n",
    "\n",
    "#### Operadores Relacionales\n",
    "\n",
    "Un operador relacional se emplea para comparar y establecer la relación entre ellos. Devuelve un valor booleano (true o false) basado en la condición.\n",
    "\n",
    "|OPERADOR|DESCRIPCIÓN|EJEMPLO|\n",
    "|:---:|:---:|:---:|\n",
    "|>|Devuelve True si el operador de la izquierda es mayor que el operador de la derecha|12 > 3 devuelve True|\n",
    "|<|Devuelve True si el operador de la derecha es mayor que el operador de la izquierda|12 < 3 devuelve False|\n",
    "|==|Devuelve True si ambos operandos son iguales|12 == 3 devuelve False|\n",
    "|>=|Devuelve True si el operador de la izquierda es mayor o igual que el operador de la derecha|12 >= 3 devuelve True|\n",
    "|<=|Devuelve True si el operador de la derecha es mayor o igual que el operador de la izquierda|12 <= 3 devuelve False|\n",
    "|!=|Devuelve True si ambos operandos no son iguales|12 != 3 devuelve True|\n",
    "\n",
    "#### Operadores de Asignación\n",
    "\n",
    "Se utiliza un operador de asignación para asignar valores a una variable. Esto generalmente se combina con otros operadores donde la operación se realiza en los operandos y el resultado se asigna al operando izquierdo.\n",
    "\n",
    "|OPERADOR|DESCRIPCIÓN|\n",
    "|:---:|:---:|\n",
    "|=|a = 5. El valor 5 es asignado a la variable a|\n",
    "|+=|a += 5 es equivalente a a = a + 5|\n",
    "|-=|a -= 5 es equivalente a a = a - 5|\n",
    "|*=|a *= 3 es equivalente a a = a * 3|\n",
    "|/=|a /= 3 es equivalente a a = a / 3|\n",
    "|%=|a %= 3 es equivalente a a = a % 3|\n",
    "|**=|a **= 3 es equivalente a a = a ** 3|\n",
    "|//=|a //= 3 es equivalente a a = a // 3|\n",
    "\n",
    "#### Operadores Lógicos\n",
    "\n",
    "Se utiliza un operador lógico para tomar una decisión basada en múltiples condiciones. \n",
    "\n",
    "|OPERADOR|DESCRIPCIÓN|EJEMPLO|\n",
    "|:---:|:---:|:---:|\n",
    "|and|Devuelve True si ambos operandos son True|a and b|\n",
    "|or|Devuelve True si alguno de los operandos es True|a or b|\n",
    "|not|Devuelve True si alguno de los operandos False|not a|\n",
    "\n",
    "\n",
    "\n",
    "\n",
    "\n",
    "## Condicionales\n",
    "\n",
    "Los condicionales son sentencias con el objetivo de permitir la ejecución de código si se cumple una condición, por ejemplo si un número está fuera de un rango o si un elemento está incluido en un diccionario.\n",
    "\n",
    "Se expresa con la palabra reservada **if** seguida de la condición que debe cumplirse (el valor de la condición debe ser *True*). En Python, a diferencia del resto de lenguajes de programación donde el código que ejecutaría si se cumpliera la condición se indica entre *{ }*, **debe estar tabulado con respecto a la condición, es decir, la sentencia if**. Veamos un ejemplo: "
   ]
  },
  {
   "cell_type": "code",
   "execution_count": 4,
   "id": "25bb3b18",
   "metadata": {},
   "outputs": [
    {
     "name": "stdout",
     "output_type": "stream",
     "text": [
      "El número es menor que 30\n",
      "El número es menor que 30\n"
     ]
    }
   ],
   "source": [
    "# Sentencia simple\n",
    "num = 20\n",
    "if num < 30:\n",
    "    print(\"El número es menor que 30\")\n",
    "    \n",
    "# Sentencia con más de una condición\n",
    "if num < 30 and num > 10:\n",
    "    print(\"El número es menor que 30\")"
   ]
  },
  {
   "cell_type": "markdown",
   "id": "090555c8",
   "metadata": {},
   "source": [
    "La sentencia **if** ejecuta el código si se cumple la condición y el programa continua con la ejecución. Sin embargo, puede darse la situación de que una vez cumplida la condición del **if** y ejecutado su código, no se ejecute el código siguiente. Para ello existe la sentencia **else**, de esta manera nos aseguramos que primero se evalue la condición y si no se cumple, se ejecute lo que **else** contenga."
   ]
  },
  {
   "cell_type": "code",
   "execution_count": 5,
   "id": "e9edab33",
   "metadata": {},
   "outputs": [
    {
     "name": "stdout",
     "output_type": "stream",
     "text": [
      "El número es mayor que 30\n"
     ]
    }
   ],
   "source": [
    "num = 40\n",
    "if num < 30:\n",
    "    print(\"El número es menor que 30\")\n",
    "else:\n",
    "    print(\"El número es mayor que 30\")"
   ]
  },
  {
   "cell_type": "markdown",
   "id": "2619b6ed",
   "metadata": {},
   "source": [
    "Aun así, puede darse la situación de que necesitemos añadir una condición en la sentencia **else**, esto podemos conseguirlo con la sentencia **elif**, que es una mezcla de **if** y **else**."
   ]
  },
  {
   "cell_type": "code",
   "execution_count": 6,
   "id": "bb2ccae7",
   "metadata": {},
   "outputs": [
    {
     "name": "stdout",
     "output_type": "stream",
     "text": [
      "El número es igual a 30\n"
     ]
    }
   ],
   "source": [
    "num = 30\n",
    "if num < 30:\n",
    "    print(\"El número es menor que 30\")\n",
    "elif num == 30:\n",
    "    print(\"El número es igual a 30\")\n",
    "else:\n",
    "    print(\"El número es mayor que 30\")"
   ]
  },
  {
   "cell_type": "markdown",
   "id": "5e28f5bd",
   "metadata": {},
   "source": [
    "## Bucles\n",
    "\n",
    "\n",
    "Los bucles son sentencias que indican que una porción de código va a repetirse una cantidad de veces deseada. Son útiles para reducir el tamaño del código, haciéndolo más legible. Principalmente existen dos tipos de bucles en Python, los bucles **for** y **while**\n",
    "\n",
    "### Bucles For\n",
    "\n",
    "Los bucles **for** nos permiten iterar sobre una secuencia de valores. La sintaxis de este bucle empieza por la sentencia **for** seguida de un nombre de variable que nosotros queramos. Seguido usamos la palabra reservada *in* y por último el objeto sobre lo que queramos iterar. Podemos ver su sintaxis como \"para cada *variable* en *objeto*\".Veamos la sintaxis típica."
   ]
  },
  {
   "cell_type": "code",
   "execution_count": 7,
   "id": "5fe5dc43",
   "metadata": {},
   "outputs": [
    {
     "name": "stdout",
     "output_type": "stream",
     "text": [
      "0\n",
      "1\n",
      "2\n",
      "3\n",
      "4\n",
      "\n",
      "H\n",
      "o\n",
      "l\n",
      "a\n",
      " \n",
      "M\n",
      "u\n",
      "n\n",
      "d\n",
      "o\n",
      "\n",
      "Hola\n",
      "esto\n",
      "es\n",
      "una\n",
      "lista\n"
     ]
    }
   ],
   "source": [
    "# Un bucle for nos permite iterar por ejemplo sobre una lista de números\n",
    "# Este bucle imprime los números del 0 al 4\n",
    "for num in range(5):\n",
    "    print(num)\n",
    "print(\"\")    \n",
    "\n",
    "# También podemos iterar sobre un string\n",
    "for letter in \"Hola Mundo\":\n",
    "    print(letter)\n",
    "print(\"\")\n",
    "\n",
    "# Igual podemos iterar sobre una lista personalizada\n",
    "list = [\"Hola\", \"esto\", \"es\", \"una\", \"lista\"]\n",
    "for word in list:\n",
    "    print(word)"
   ]
  },
  {
   "cell_type": "markdown",
   "id": "34f40f3f",
   "metadata": {},
   "source": [
    "### Bucles While\n",
    "\n",
    "Como su nombre indica, son bucles \"infinitos\" que seguirán ejecutándose mientras la condición para ello se siga cumpliendo. Hay que tener especial cuidado con estos bucles, es muy fácil cometer algún error y conseguir que el código se quede encerrado en un bucle infinito.\n",
    "Su sintaxis es parecida a una condición *if*, comenzamos con la sentencia **while** seguida de la condición que queremos cumplir."
   ]
  },
  {
   "cell_type": "code",
   "execution_count": 8,
   "id": "95973808",
   "metadata": {},
   "outputs": [
    {
     "name": "stdout",
     "output_type": "stream",
     "text": [
      "0\n",
      "1\n",
      "2\n",
      "3\n",
      "4\n",
      "5\n",
      "Fuera del bucle\n"
     ]
    }
   ],
   "source": [
    "# Vamos a crear un bucle while que imprima el valor de una variable hasta que alcance un límite.\n",
    "# Comenzamos inicializando la variable fuera del bucle, en cada iteración se aumentará el valor de la variable.\n",
    "# Cuando la condición del bucle while deje de cumplirse (en este caso cuando valga 6),  se interrumpirá el bucle.\n",
    "num = 0\n",
    "while num <= 5:\n",
    "    print(num)\n",
    "    num += 1\n",
    "print(\"Fuera del bucle\")"
   ]
  },
  {
   "cell_type": "markdown",
   "id": "5800978f",
   "metadata": {},
   "source": [
    "## Funciones\n",
    "\n",
    "Una función te permite definir un bloque de código reutilizable que se puede ejecutar muchas veces dentro de tu programa. Una de las grandes ventajas de usar funciones en tu código es que reduce el número total de líneas de código en tu proyecto. \n",
    "La sintaxis para definir una función es simple, primero indicamos que lo siguiente será una función con la palabra reservada **def**, seguida del nombre que queramos darle a la función. Las funciones se distinguen por que al final del nombre cuentan con **( )**, donde se encuentran los parámetros que necesita la función. Vamos a ver algunos ejemplos."
   ]
  },
  {
   "cell_type": "code",
   "execution_count": 9,
   "id": "8291564a",
   "metadata": {},
   "outputs": [
    {
     "name": "stdout",
     "output_type": "stream",
     "text": [
      "la suma de 2 y 3 es: 5\n",
      "la suma de 2 y 8 es: 10\n",
      "la suma de 5 y 7 es: 12\n",
      "la suma de 1 y 9 es: 10\n",
      "la suma de 2 y 3 es: 5\n",
      "El valor devuelto por la funcion es: 5\n"
     ]
    }
   ],
   "source": [
    "# Vamos a definir una función que implemente la suma\n",
    "def suma(a, b):\n",
    "  print(\"la suma de {} y {} es:\".format(a,b), a + b)\n",
    "suma(2, 3)\n",
    "\n",
    "# Una vez definida la función, podemos usarla cuantas veces queramos\n",
    "suma(2, 8)\n",
    "suma(5, 7)\n",
    "suma(1, 9)\n",
    "\n",
    "# Quizas, aparte de imprimir el resultado sería interesante poder usarlo, conseguir que la función devuelva el valor\n",
    "# de la suma. Esto lo conseguimos con la sentencia return\n",
    "def suma(a, b):\n",
    "  print(\"la suma de {} y {} es:\".format(a,b), a + b)\n",
    "  return a + b\n",
    "sum = suma(2, 3)\n",
    "print(\"El valor devuelto por la funcion es:\", sum)"
   ]
  },
  {
   "cell_type": "markdown",
   "id": "30e578c7",
   "metadata": {},
   "source": [
    "## Entornos\n",
    "\n",
    "Un programa en Python puede ser ejecutado por diversas versiones del mismo, por ejemplo actualmente la última versión es la 3.10, pero podrías elegir ejecutar el programa usando la 3.7. Esto ocurre también para cualquier paquete extra que queramos añadir. Normalmente es conveniente no usar la última versión disponible, aunque parezca extraño, para evistar incompatibilidades con otros paquetes y problemas de versión.\n",
    "\n",
    "Para organizar toda esta personalización en las versiones, Python usa entornos. Un entorno no es otra cosa que una colección de paquetes de los que el programa hará uso. La mayor ventaja que aporta esto, es la posibilidad de tener varios entornos, con distintos paquetes instalados en cada uno son sus respectivas versiones. Por ejemplo, podemos tener un entorno con Python 3.6 y otro distinto con 3.8.\n",
    "\n",
    "Es posible añadir paquetes directamente desde el editor que estemos usando, aunque al final lo más cómodo es hacerlo mediante la consola. Por suerte, en la página web de cada paquete está indicado como instalarlos. \n",
    "\n",
    "\n",
    "## Importar paquetes\n",
    "\n",
    "Prácticamente en cualquier programa desarrollado en Python, aprovechando además la gran cantidad de paquetes disponibles, se hace uso de paquetes externos, desarrollados fuera de la versión basica de Python. Estos paquetes aportan funciones extra que facilitan mucho la programación. De los paquetes más importantes:\n",
    "\n",
    "* [Numpy](https://numpy.org/): Enfocado en cálculo numérico de matrices.\n",
    "* [Pandas](https://pandas.pydata.org/docs/index.html#): Gestión de Dataframes/Conjuntos de datos.\n",
    "* [Matplotlib](https://matplotlib.org/): Paquete muy potente para generar gráficas.\n",
    "* [Scikit-learn](https://scikit-learn.org/stable/): Paquete para Machine Learning, imprescindible.\n",
    "* [TensorFlow](https://www.tensorflow.org/?hl=es-419)/[Keras](https://keras.io/)/[Pytorch](https://pytorch.org/): Paquetes de Machine Learning enfocados en Deep Learning y redes neuronales.\n",
    "\n",
    "Algo importante a recalcar es que no basta con tener instalado el paquete en el entorno, tenemos que indicar explicitamente en el programa que queremos hacer uso de él con la sentencia **import**. Es importante que estas declaraciones estén en la parte superior del programa."
   ]
  },
  {
   "cell_type": "code",
   "execution_count": null,
   "id": "288951c0",
   "metadata": {},
   "outputs": [],
   "source": [
    "# Por ejemplo, vamos a importar pandas y numpy. Es posible dar un alias al paquete para que sea más cómodo usar.\n",
    "# Esto se hace con la palabra as.\n",
    "import numpy as np\n",
    "import pandas as pd\n",
    "\n",
    "# También es posible importar únicamente una función o una parte del programa. Esto es útil cuando solo necesitamos una función\n",
    "# y no necesitamos el resto, mejora el rendimiento. Para ellos usaremos from\n",
    "from matplotlib import pyplot as plt"
   ]
  }
 ],
 "metadata": {
  "kernelspec": {
   "display_name": "Python 3 (ipykernel)",
   "language": "python",
   "name": "python3"
  },
  "language_info": {
   "codemirror_mode": {
    "name": "ipython",
    "version": 3
   },
   "file_extension": ".py",
   "mimetype": "text/x-python",
   "name": "python",
   "nbconvert_exporter": "python",
   "pygments_lexer": "ipython3",
   "version": "3.8.5"
  }
 },
 "nbformat": 4,
 "nbformat_minor": 5
}
